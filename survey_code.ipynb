{
 "cells": [
  {
   "cell_type": "code",
   "execution_count": 1,
   "metadata": {},
   "outputs": [],
   "source": [
    "import pandas as pd\n",
    "import numpy as np\n",
    "from datetime import datetime\n",
    "from functools import wraps\n",
    "from datetime import timedelta\n",
    "import os\n",
    "import json\n"
   ]
  },
  {
   "cell_type": "code",
   "execution_count": null,
   "metadata": {},
   "outputs": [],
   "source": [
    "# JSON 파일을 열고 데이터 읽기\n",
    "with open('./static\\data/calendar.json', 'r', encoding='utf-8') as f:\n",
    "    data = json.load(f)\n",
    "\n",
    "temp2=[]\n",
    "for i in range(len(data)):\n",
    "    temp = data[i]\n",
    "\n",
    "    if temp['start']>='2024-12-01':\n",
    "        temp2 = np.append(temp2,[temp])\n",
    "for i in range(len(temp2)):\n",
    "    temp2[i]['description2']= \"\"\n",
    "    for tmp in temp2[i]['description'].split(\"\\n작업장\"):\n",
    "\n",
    "        if \"undefined\" not in tmp:\n",
    "            if temp2[i]['description2']!=\"\":\n",
    "                temp2[i]['description2'] = temp2[i]['description2']+\"\\n\"+tmp\n",
    "            else: \n",
    "                temp2[i]['description2'] = tmp\n",
    "temp2[2]['description2'] = temp2[2]['description2'].replace(\"\\n연장근무\",\"\")\n",
    "temp2[2]['description2'] = temp2[2]['description2'][:-3]\n",
    "temp2[3]['description2'] = temp2[3]['description2'].replace(\"\\n연장근무\",\"\")\n",
    "temp2[3]['description2'] = temp2[3]['description2'][:-3]"
   ]
  },
  {
   "cell_type": "code",
   "execution_count": null,
   "metadata": {},
   "outputs": [],
   "source": [
    "from openpyxl import Workbook\n",
    "from openpyxl.styles import Alignment, PatternFill, Border, Side,Font"
   ]
  },
  {
   "cell_type": "code",
   "execution_count": 195,
   "metadata": {},
   "outputs": [
    {
     "name": "stdout",
     "output_type": "stream",
     "text": [
      "0\n",
      "[' : 김포 \\n 작업인원 : 1 \\n작업내용 : 김포_직영_B4_D_코어_자재양중 및 야기리 설치 작업 신호수_1_100%\\n특이사항 : \\n테이블 데이터:\\n행 1: 모용국 | 1 | 100.00% | 김포_직영_B4_D_코어_자재양중 및 야기리 설치 작업 신호수_1_100% | 삭제 |']\n",
      "[' : 김포 ', ' 작업인원 : 1 ', '작업내용 : 김포_직영_B4_D_코어_자재양중 및 야기리 설치 작업 신호수_1_100%', '특이사항 : ', '테이블 데이터:', '행 1: 모용국 | 1 | 100.00% | 김포_직영_B4_D_코어_자재양중 및 야기리 설치 작업 신호수_1_100% | 삭제 |']\n",
      "5\n",
      "[{'모용국': '1'}]\n",
      "1\n",
      "[' : 김포 \\n 작업인원 : 2 \\n작업내용 : 김포_도급_B1_A_램프_1번, 보 제작, 슬라브 작업_2_100%\\n특이사항 : \\n테이블 데이터:\\n행 1: 김승학 | 1 | 50.00% | 김포_도급_B1_A_램프_1번, 보 제작, 슬라브 작업_2_100% | 삭제 |\\n행 2: 오홍성 | 1 | 50.00% | 김포_도급_B1_A_램프_1번, 보 제작, 슬라브 작업_2_100% | 삭제 |']\n",
      "[' : 김포 ', ' 작업인원 : 2 ', '작업내용 : 김포_도급_B1_A_램프_1번, 보 제작, 슬라브 작업_2_100%', '특이사항 : ', '테이블 데이터:', '행 1: 김승학 | 1 | 50.00% | 김포_도급_B1_A_램프_1번, 보 제작, 슬라브 작업_2_100% | 삭제 |', '행 2: 오홍성 | 1 | 50.00% | 김포_도급_B1_A_램프_1번, 보 제작, 슬라브 작업_2_100% | 삭제 |']\n",
      "5\n",
      "[{'김승학': '1'}]\n",
      "6\n",
      "[{'김승학': '1'}, {'오홍성': '1'}]\n",
      "2\n",
      "[' : 김포 \\n 작업인원 : 5 \\n작업내용 : 김포_도급_B4_D_램프_슬라브 설치_5_100%\\n특이사항 : 특이사항: 명일 타설: \\n테이블 데이터:\\n행 1: 이영남 | 1 | 20.00% | 김포_도급_B4_D_램프_슬라브 설치_5_100% | 삭제 |\\n행 2: 황민권 | 1 | 20.00% | 김포_도급_B4_D_램프_슬라브 설치_5_100% | 삭제 |\\n행 3: 이운철 | 1 | 20.00% | 김포_도급_B4_D_램프_슬라브 설치_5_100% | 삭제 |\\n행 4: 김태훈 | 1 | 20.00% | 김포_도급_B4_D_램프_슬라브 설치_5_100% | 삭제 |\\n행 5: 박용수 | 1 | 20.00% | 김포_도급_B4_D_램프_슬라브 설치_5_100% | 삭제']\n",
      "[' : 김포 ', ' 작업인원 : 5 ', '작업내용 : 김포_도급_B4_D_램프_슬라브 설치_5_100%', '특이사항 : 특이사항: 명일 타설: ', '테이블 데이터:', '행 1: 이영남 | 1 | 20.00% | 김포_도급_B4_D_램프_슬라브 설치_5_100% | 삭제 |', '행 2: 황민권 | 1 | 20.00% | 김포_도급_B4_D_램프_슬라브 설치_5_100% | 삭제 |', '행 3: 이운철 | 1 | 20.00% | 김포_도급_B4_D_램프_슬라브 설치_5_100% | 삭제 |', '행 4: 김태훈 | 1 | 20.00% | 김포_도급_B4_D_램프_슬라브 설치_5_100% | 삭제 |', '행 5: 박용수 | 1 | 20.00% | 김포_도급_B4_D_램프_슬라브 설치_5_100% | 삭제']\n",
      "5\n",
      "[{'이영남': '1'}]\n",
      "6\n",
      "[{'이영남': '1'}, {'황민권': '1'}]\n",
      "7\n",
      "[{'이영남': '1'}, {'황민권': '1'}, {'이운철': '1'}]\n",
      "8\n",
      "[{'이영남': '1'}, {'황민권': '1'}, {'이운철': '1'}, {'김태훈': '1'}]\n",
      "9\n",
      "[{'이영남': '1'}, {'황민권': '1'}, {'이운철': '1'}, {'김태훈': '1'}, {'박용수': '1'}]\n",
      "3\n",
      "[' : 김포 \\n 작업인원 : 4 \\n작업내용 : 김포_도급_1_A_코어_본관동 옥탑 사무동 패드 및 난간 작업_4_100%\\n특이사항 : \\n테이블 데이터:\\n행 1: 신영조 | 1 | 25.00% | 김포_도급_1_A_코어_본관동 옥탑 사무동 패드 및 난간 작업_4_100% | 삭제 |\\n행 2: 조병칠 | 1 | 25.00% | 김포_도급_1_A_코어_본관동 옥탑 사무동 패드 및 난간 작업_4_100% | 삭제 |\\n행 3: 신성일 | 1 | 25.00% | 김포_도급_1_A_코어_본관동 옥탑 사무동 패드 및 난간 작업_4_100% | 삭제 |\\n행 4: 신영호 | 1 | 25.00% | 김포_도급_1_A_코어_본관동 옥탑 사무동 패드 및 난간 작업_4_100% | 삭제']\n",
      "[' : 김포 ', ' 작업인원 : 4 ', '작업내용 : 김포_도급_1_A_코어_본관동 옥탑 사무동 패드 및 난간 작업_4_100%', '특이사항 : ', '테이블 데이터:', '행 1: 신영조 | 1 | 25.00% | 김포_도급_1_A_코어_본관동 옥탑 사무동 패드 및 난간 작업_4_100% | 삭제 |', '행 2: 조병칠 | 1 | 25.00% | 김포_도급_1_A_코어_본관동 옥탑 사무동 패드 및 난간 작업_4_100% | 삭제 |', '행 3: 신성일 | 1 | 25.00% | 김포_도급_1_A_코어_본관동 옥탑 사무동 패드 및 난간 작업_4_100% | 삭제 |', '행 4: 신영호 | 1 | 25.00% | 김포_도급_1_A_코어_본관동 옥탑 사무동 패드 및 난간 작업_4_100% | 삭제']\n",
      "5\n",
      "[{'신영조': '1'}]\n",
      "6\n",
      "[{'신영조': '1'}, {'조병칠': '1'}]\n",
      "7\n",
      "[{'신영조': '1'}, {'조병칠': '1'}, {'신성일': '1'}]\n",
      "8\n",
      "[{'신영조': '1'}, {'조병칠': '1'}, {'신성일': '1'}, {'신영호': '1'}]\n"
     ]
    }
   ],
   "source": [
    "iter_sheet = [50 * i for i in range(0,30)]\n",
    "wb = Workbook()\n",
    "ws = wb.active\n",
    "thin_border = Border(\n",
    "    left=Side(style='thin'),\n",
    "    right=Side(style='thin'),\n",
    "    top=Side(style='thin'),\n",
    "    bottom=Side(style='thin')\n",
    ")\n",
    "\n",
    "\n",
    "ws.title = \"작업일지\"\n",
    "\n",
    "\n",
    "for iter in range(len(temp2)):\n",
    "    print(iter)\n",
    "    today_worker = []\n",
    "    cell_row = iter_sheet[iter]\n",
    "    ws.merge_cells(\"A\"+str(cell_row+1)+\":S\"+str(cell_row+1))  # A1 ~ F1까지 병합\n",
    "    ws[\"A\"+str(cell_row+1)] = \"작 업 일 지\"\n",
    "    ws[\"A\"+str(cell_row+1)].alignment = Alignment(horizontal='center')\n",
    "    ws[\"A\"+str(cell_row+1)].font = Font(size=14, bold=True)\n",
    "\n",
    "    temp_parse = temp2[iter]['description2'].split(\"작업장\")[1:]\n",
    "    print(temp_parse)\n",
    "    parse_i = temp_parse[0].split(\"\\n\")\n",
    "    site= parse_i[0].split(\":\")[1].replace(\" \",\"\") ##작업장\n",
    "    start = temp2[iter]['start']\n",
    "\n",
    "    ws.merge_cells(\"A\"+str(cell_row+2)+\":S\"+str(cell_row+2))  # A1 ~ F1까지 병합\n",
    "    ws[\"A\"+str(cell_row+2)] = \"현장명 : \" + site\n",
    "    ws[\"A\"+str(cell_row+2)].alignment = Alignment(horizontal='center')\n",
    "    ws.merge_cells(\"A\"+str(cell_row+3)+\":D\"+str(cell_row+3))  # A1 ~ F1까지 병합\n",
    "    ws.merge_cells(\"E\"+str(cell_row+3)+\":S\"+str(cell_row+3))  # A1 ~ F1까지 병합\n",
    "    ws[\"A\"+str(cell_row+3)] = \"날짜 : \" + start.split(\" \")[0]\n",
    "\n",
    "    ws.append(['NO', '공종', '성명', '공수', '# 주간작업', '', '', '', '', '', '', '', '', '', '', '', '', '', ''])\n",
    "    ws.merge_cells(\"E\"+str(cell_row+4)+\":S\"+str(cell_row+4))  # 국적 병합\n",
    "    ws[\"E\"+str(cell_row+4)].alignment = Alignment(horizontal='center')\n",
    "\n",
    "    ws.append(['', '', '', '', '구간', '층', '형태', '작업 단가별 분류', '작업내용', '공종', '공수', '작업명단', '', '', '', '', '', '', ''])\n",
    "    ws[\"L\"+str(cell_row+4)].alignment = Alignment(horizontal='center')\n",
    "    ws.merge_cells(\"S\"+str(cell_row+5)+\":S\"+str(cell_row+5)) \n",
    "    full_number =0 \n",
    "\n",
    "    for jj in range(cell_row+6,+cell_row+24):\n",
    "        ws.merge_cells(\"L\"+str(jj)+\":S\"+str(jj))\n",
    "\n",
    "    for i in range(len(temp_parse)):\n",
    "        parse_i = temp_parse[i].split(\"\\n\")\n",
    "        print(parse_i)\n",
    "        ##E~K 6부터 \n",
    "        number = int(parse_i[1].split(\":\")[1].replace(\" \",\"\")) ## 공수 \n",
    "        full_number = full_number+number ## 합계 \n",
    "\n",
    "        work_parse = parse_i[2].split(\":\")[1].replace(\" \",\"\") ## \n",
    "        work1 = work_parse.split(\"_\")[1] ##형태 \n",
    "        floor = work_parse.split(\"_\")[2] ## 층 \n",
    "        floor2 = work_parse.split(\"_\")[3] ## 구간\n",
    "        work2 = work_parse.split(\"_\")[4] ## 단가별 분류\n",
    "        work3 = work_parse.split(\"_\")[5] ## 작업내용 \n",
    "        # for aa in ['E','F','G','H','I','J','K']:\n",
    "        ws['E'+str(6+i+cell_row)] = floor2\n",
    "        ws['F'+str(6+i+cell_row)] = floor\n",
    "        ws['G'+str(6+i+cell_row)] = work1\n",
    "        ws['H'+str(6+i+cell_row)] = work2\n",
    "        ws['I'+str(6+i+cell_row)] = work3\n",
    "        ws['J'+str(6+i+cell_row)] = '형틀'\n",
    "        ws['K'+str(6+i+cell_row)] = number\n",
    "\n",
    "        ## A~D 5부터 \n",
    "        for j in range(5,len(parse_i)):\n",
    "            print(j)\n",
    "            today_worker = today_worker+[{parse_i[j].split(\":\")[1].split(\"|\")[0].replace(\" \",\"\"):parse_i[j].split(\":\")[1].split(\"|\")[1].replace(\" \",\"\")}]\n",
    "            print(today_worker)\n",
    "\n",
    "    ws.merge_cells(\"E\"+str(cell_row+28)+\":J\"+str(cell_row+28))\n",
    "    ws[\"E\"+str(cell_row+28)]='합계'\n",
    "    ws[\"K\"+str(cell_row+28)] = full_number\n",
    "    ws.merge_cells(\"L\"+str(cell_row+28)+\":S\"+str(cell_row+28))\n",
    "    ws.merge_cells(\"E\"+str(cell_row+28)+\":S\"+str(cell_row+28))\n",
    "    ws[\"E\"+str(cell_row+29)] = \"# 연장작업\"\n",
    "    ws[\"E\"+str(cell_row+30)] = '구간'\n",
    "    ws[\"F\"+str(cell_row+30)] = '층'\n",
    "    ws[\"G\"+str(cell_row+30)] = '형태'\n",
    "    ws[\"H\"+str(cell_row+30)] = '작업 단가별 분류'\n",
    "    ws[\"I\"+str(cell_row+30)] = '작업내용'\n",
    "    ws[\"J\"+str(cell_row+30)] = '공종'\n",
    "    ws[\"K\"+str(cell_row+30)] = '공수'\n",
    "    ws.merge_cells(\"L\"+str(cell_row+30)+\":S\"+str(cell_row+30))\n",
    "    ws[\"L\"+str(cell_row+30)] = '작업 명단'\n",
    "\n",
    "\n",
    "    for idx,k in enumerate(today_worker):\n",
    "        ws['A'+str(5+idx+cell_row)] = idx+1\n",
    "        ws['B'+str(5+idx+cell_row)] = '형틀'\n",
    "        ws['C'+str(5+idx+cell_row)] = list(k.keys())[0]\n",
    "        ws['D'+str(5+idx+cell_row)] = list(k.values())[0]\n",
    "        last_k = idx\n",
    "        last_idx = (5+idx+cell_row)\n",
    "\n",
    "    for i,idx in enumerate(range(last_idx,44+cell_row)):\n",
    "        ws['A'+str(idx)] = last_k+i\n",
    "        ws['B'+str(idx)] = '형틀'\n",
    "\n",
    "    ws[\"A\"+str(cell_row+44)] = '합계'\n",
    "    ws.merge_cells(\"A\"+str(cell_row+44)+\":C\"+str(cell_row+44))\n",
    "    ws[\"D\"+str(cell_row+44)] = full_number\n",
    "    ws.merge_cells(\"E\"+str(cell_row+44)+\":J\"+str(cell_row+44))\n",
    "    ws[\"E\"+str(cell_row+44)] = '합계'\n",
    "    ws.merge_cells(\"L\"+str(cell_row+44)+\":S\"+str(cell_row+44))\n",
    "    ws[\"K\"+str(cell_row+44)] = full_number\n",
    "    ws[\"A\"+str(cell_row+45)] = \"# 특이사항\"\n",
    "    ws.merge_cells(\"A\"+str(cell_row+45)+\":S\"+str(cell_row+45))\n",
    "    for kk in range(46+cell_row,50+cell_row):\n",
    "        ws.merge_cells('A'+str(kk)+':S'+str(kk))\n",
    "        \n",
    "    alignment_center = Alignment(horizontal='center', vertical='center', wrap_text=False)\n",
    "    # (2) 모든 사용된 셀 범위를 조회 (1~ws.max_row행, 1~8열) 후 테두리/정렬 적용\n",
    "    for row in ws.iter_rows(min_row=1, max_row=ws.max_row, min_col=1, max_col=19):\n",
    "        for cell in row:\n",
    "            # 테두리\n",
    "            cell.border = thin_border\n",
    "            cell.alignment = alignment_center\n",
    "\n",
    "\n"
   ]
  },
  {
   "cell_type": "code",
   "execution_count": 196,
   "metadata": {},
   "outputs": [],
   "source": [
    "wb.save(\"작업일지.xlsx\")"
   ]
  },
  {
   "cell_type": "code",
   "execution_count": 93,
   "metadata": {},
   "outputs": [
    {
     "data": {
      "text/plain": [
       "15"
      ]
     },
     "execution_count": 93,
     "metadata": {},
     "output_type": "execute_result"
    }
   ],
   "source": [
    "last_idx"
   ]
  },
  {
   "cell_type": "code",
   "execution_count": null,
   "metadata": {},
   "outputs": [
    {
     "data": {
      "text/plain": [
       "15"
      ]
     },
     "execution_count": 85,
     "metadata": {},
     "output_type": "execute_result"
    }
   ],
   "source": [
    "for idx in range(last_idx,39):\n",
    "    ws['A'+str(5+idx)] = idx-5+1\n",
    "    ws['B'+str(5+idx)] = '형틀'"
   ]
  },
  {
   "cell_type": "code",
   "execution_count": 23,
   "metadata": {},
   "outputs": [
    {
     "data": {
      "text/plain": [
       "[{'work_place': '',\n",
       "  'worker_count': 'undefined',\n",
       "  'work_content': '',\n",
       "  'rows': []}]"
      ]
     },
     "execution_count": 23,
     "metadata": {},
     "output_type": "execute_result"
    }
   ],
   "source": [
    "parse_log_data(temp2[4]['description'].split(\"\\n\"))"
   ]
  },
  {
   "cell_type": "code",
   "execution_count": null,
   "metadata": {},
   "outputs": [
    {
     "data": {
      "text/plain": [
       "['작업장 : 김포 ',\n",
       " ' 작업인원 : 4 ',\n",
       " '작업내용 : 김포_도급_1_A_코어_본관동 옥탑 사무동 패드 및 난간 작업_4_100%',\n",
       " '특이사항 : ',\n",
       " '테이블 데이터:',\n",
       " '행 1: 신영조 | 1 | 25.00% | 김포_도급_1_A_코어_본관동 옥탑 사무동 패드 및 난간 작업_4_100% | 삭제 |',\n",
       " '행 2: 조병칠 | 1 | 25.00% | 김포_도급_1_A_코어_본관동 옥탑 사무동 패드 및 난간 작업_4_100% | 삭제 |',\n",
       " '행 3: 신성일 | 1 | 25.00% | 김포_도급_1_A_코어_본관동 옥탑 사무동 패드 및 난간 작업_4_100% | 삭제 |',\n",
       " '행 4: 신영호 | 1 | 25.00% | 김포_도급_1_A_코어_본관동 옥탑 사무동 패드 및 난간 작업_4_100% | 삭제 |',\n",
       " '']"
      ]
     },
     "execution_count": 10,
     "metadata": {},
     "output_type": "execute_result"
    }
   ],
   "source": [
    "temp2_split = temp2[4]['description'].split(\"\\n\")\n",
    "## 작업장 \n",
    "site = temp2_split[0].split(\":\")[1].replace(\" \",\"\")\n",
    "date = temp2[3]['start']\n",
    "\n"
   ]
  },
  {
   "cell_type": "code",
   "execution_count": null,
   "metadata": {},
   "outputs": [],
   "source": [
    "insadb = pd.read_excel(\"./static/data/INSA_DB.xlsx\")\n",
    "\n",
    "insadb_json = insadb.to_json(orient='records',)"
   ]
  },
  {
   "cell_type": "code",
   "execution_count": 7,
   "metadata": {},
   "outputs": [],
   "source": [
    "## 작업 key만들기 "
   ]
  },
  {
   "cell_type": "code",
   "execution_count": 39,
   "metadata": {},
   "outputs": [],
   "source": [
    "import random\n",
    "import string\n",
    "def new_generate_random_key(df):\n",
    "    \"\"\"알파벳 3글자 + 숫자 4자리 난수 생성 (예: ABC1234)\"\"\"\n",
    "    \n",
    "    letters = ''.join(random.choices(string.ascii_uppercase, k=3))\n",
    "    digits = ''.join(random.choices(string.digits, k=4))\n",
    "    newkey = letters + digits\n",
    "\n",
    "    if newkey in df['KEY'].unique():\n",
    "        while newkey in df['KEY'].unique():\n",
    "            print(\"겹치는거 있음?\")\n",
    "            letters = ''.join(random.choices(string.ascii_uppercase, k=3))\n",
    "            digits = ''.join(random.choices(string.digits, k=4))\n",
    "            newkey = letters + digits\n",
    "        return newkey\n",
    "    else:\n",
    "        return newkey\n",
    "    "
   ]
  },
  {
   "cell_type": "code",
   "execution_count": null,
   "metadata": {},
   "outputs": [],
   "source": [
    "work_info.to_excel(\"./static/data/작업공수/작업입력.xlsx\", index=False)"
   ]
  },
  {
   "cell_type": "code",
   "execution_count": 55,
   "metadata": {},
   "outputs": [],
   "source": [
    "import pandas as pd \n",
    "work_info = pd.read_excel(\"./static/data/작업공수/작업계획.xlsx\")"
   ]
  },
  {
   "cell_type": "code",
   "execution_count": 58,
   "metadata": {},
   "outputs": [],
   "source": [
    "dup = work_info.loc[(work_info[key_column]==new_val[key_column]).sum(axis=1)==6]\n",
    "new_val['KEY'] =  new_generate_random_key(work_info)\n",
    "if len(dup)!=0:\n",
    "    print('error')\n",
    "else:\n",
    "    work_info = pd.concat([work_info,new_val]).reset_index(drop=True)\n",
    "work_info.loc[(work_info[key_column]==key_unique.values[i]).sum(axis=1)==6,'KEY'] = new_generate_random_key(work_info)"
   ]
  },
  {
   "cell_type": "code",
   "execution_count": 64,
   "metadata": {},
   "outputs": [
    {
     "data": {
      "text/html": [
       "<div>\n",
       "<style scoped>\n",
       "    .dataframe tbody tr th:only-of-type {\n",
       "        vertical-align: middle;\n",
       "    }\n",
       "\n",
       "    .dataframe tbody tr th {\n",
       "        vertical-align: top;\n",
       "    }\n",
       "\n",
       "    .dataframe thead th {\n",
       "        text-align: right;\n",
       "    }\n",
       "</style>\n",
       "<table border=\"1\" class=\"dataframe\">\n",
       "  <thead>\n",
       "    <tr style=\"text-align: right;\">\n",
       "      <th></th>\n",
       "      <th>작업날짜</th>\n",
       "      <th>작업장</th>\n",
       "      <th>위치_분류1</th>\n",
       "      <th>위치_분류2</th>\n",
       "      <th>작업_분류1</th>\n",
       "      <th>작업_분류2</th>\n",
       "      <th>작업_분류3</th>\n",
       "      <th>연장</th>\n",
       "      <th>수량</th>\n",
       "      <th>단위</th>\n",
       "      <th>목표공수</th>\n",
       "      <th>도급/직영</th>\n",
       "      <th>KEY</th>\n",
       "    </tr>\n",
       "  </thead>\n",
       "  <tbody>\n",
       "    <tr>\n",
       "      <th>12</th>\n",
       "      <td>2025-01-03</td>\n",
       "      <td>마곡</td>\n",
       "      <td>11</td>\n",
       "      <td>C</td>\n",
       "      <td>??</td>\n",
       "      <td>NaN</td>\n",
       "      <td>코어 벽체 부분 해체 기준목 설치 작업</td>\n",
       "      <td>NaN</td>\n",
       "      <td>NaN</td>\n",
       "      <td>NaN</td>\n",
       "      <td>30</td>\n",
       "      <td>직영</td>\n",
       "      <td>KNW7505</td>\n",
       "    </tr>\n",
       "  </tbody>\n",
       "</table>\n",
       "</div>"
      ],
      "text/plain": [
       "          작업날짜 작업장 위치_분류1 위치_분류2 작업_분류1  작업_분류2                 작업_분류3  연장  \\\n",
       "12  2025-01-03  마곡     11      C     ??     NaN  코어 벽체 부분 해체 기준목 설치 작업 NaN   \n",
       "\n",
       "    수량  단위  목표공수 도급/직영      KEY  \n",
       "12 NaN NaN    30   직영   KNW7505  "
      ]
     },
     "execution_count": 64,
     "metadata": {},
     "output_type": "execute_result"
    }
   ],
   "source": [
    "work_info.loc[(work_info[key_column]==new_val[key_column].values).sum(axis=1)==6]"
   ]
  },
  {
   "cell_type": "code",
   "execution_count": 61,
   "metadata": {},
   "outputs": [],
   "source": [
    "new_val = work_info.iloc[-1:,:]"
   ]
  },
  {
   "cell_type": "code",
   "execution_count": 62,
   "metadata": {},
   "outputs": [
    {
     "data": {
      "text/html": [
       "<div>\n",
       "<style scoped>\n",
       "    .dataframe tbody tr th:only-of-type {\n",
       "        vertical-align: middle;\n",
       "    }\n",
       "\n",
       "    .dataframe tbody tr th {\n",
       "        vertical-align: top;\n",
       "    }\n",
       "\n",
       "    .dataframe thead th {\n",
       "        text-align: right;\n",
       "    }\n",
       "</style>\n",
       "<table border=\"1\" class=\"dataframe\">\n",
       "  <thead>\n",
       "    <tr style=\"text-align: right;\">\n",
       "      <th></th>\n",
       "      <th>작업날짜</th>\n",
       "      <th>작업장</th>\n",
       "      <th>위치_분류1</th>\n",
       "      <th>위치_분류2</th>\n",
       "      <th>작업_분류1</th>\n",
       "      <th>작업_분류2</th>\n",
       "      <th>작업_분류3</th>\n",
       "      <th>연장</th>\n",
       "      <th>수량</th>\n",
       "      <th>단위</th>\n",
       "      <th>목표공수</th>\n",
       "      <th>도급/직영</th>\n",
       "      <th>KEY</th>\n",
       "    </tr>\n",
       "  </thead>\n",
       "  <tbody>\n",
       "    <tr>\n",
       "      <th>12</th>\n",
       "      <td>2025-01-03</td>\n",
       "      <td>마곡</td>\n",
       "      <td>11</td>\n",
       "      <td>C</td>\n",
       "      <td>??</td>\n",
       "      <td>NaN</td>\n",
       "      <td>코어 벽체 부분 해체 기준목 설치 작업</td>\n",
       "      <td>NaN</td>\n",
       "      <td>NaN</td>\n",
       "      <td>NaN</td>\n",
       "      <td>30</td>\n",
       "      <td>직영</td>\n",
       "      <td>KNW7505</td>\n",
       "    </tr>\n",
       "  </tbody>\n",
       "</table>\n",
       "</div>"
      ],
      "text/plain": [
       "          작업날짜 작업장 위치_분류1 위치_분류2 작업_분류1  작업_분류2                 작업_분류3  연장  \\\n",
       "12  2025-01-03  마곡     11      C     ??     NaN  코어 벽체 부분 해체 기준목 설치 작업 NaN   \n",
       "\n",
       "    수량  단위  목표공수 도급/직영      KEY  \n",
       "12 NaN NaN    30   직영   KNW7505  "
      ]
     },
     "execution_count": 62,
     "metadata": {},
     "output_type": "execute_result"
    }
   ],
   "source": [
    "new_val"
   ]
  },
  {
   "cell_type": "code",
   "execution_count": null,
   "metadata": {},
   "outputs": [],
   "source": [
    "key_column = ['작업장', '위치_분류1', '위치_분류2', '작업_분류1', '도급/직영', '작업_분류3']\n",
    "work_info.loc[(work_info[key_column]==key_unique.values[i]).sum(axis=1)==6,'KEY'] =  new_generate_random_key(work_info)"
   ]
  },
  {
   "cell_type": "code",
   "execution_count": 2,
   "metadata": {},
   "outputs": [],
   "source": [
    "import pandas as pd \n",
    "work_info = pd.read_excel(\"./static/data/작업공수/작업입력.xlsx\")\n",
    "# work_info['KEY']=\"\""
   ]
  },
  {
   "cell_type": "code",
   "execution_count": 5,
   "metadata": {},
   "outputs": [
    {
     "ename": "AttributeError",
     "evalue": "'Series' object has no attribute 'month'",
     "output_type": "error",
     "traceback": [
      "\u001b[1;31m---------------------------------------------------------------------------\u001b[0m",
      "\u001b[1;31mAttributeError\u001b[0m                            Traceback (most recent call last)",
      "Cell \u001b[1;32mIn[5], line 1\u001b[0m\n\u001b[1;32m----> 1\u001b[0m \u001b[43mwork_info\u001b[49m\u001b[43m[\u001b[49m\u001b[38;5;124;43m'\u001b[39;49m\u001b[38;5;124;43m작업날짜\u001b[39;49m\u001b[38;5;124;43m'\u001b[39;49m\u001b[43m]\u001b[49m\u001b[38;5;241;43m.\u001b[39;49m\u001b[43mmonth\u001b[49m\n",
      "File \u001b[1;32mc:\\Users\\windows11\\AppData\\Local\\Programs\\Python\\Python39\\lib\\site-packages\\pandas\\core\\generic.py:6296\u001b[0m, in \u001b[0;36mNDFrame.__getattr__\u001b[1;34m(self, name)\u001b[0m\n\u001b[0;32m   6289\u001b[0m \u001b[38;5;28;01mif\u001b[39;00m (\n\u001b[0;32m   6290\u001b[0m     name \u001b[38;5;129;01mnot\u001b[39;00m \u001b[38;5;129;01min\u001b[39;00m \u001b[38;5;28mself\u001b[39m\u001b[38;5;241m.\u001b[39m_internal_names_set\n\u001b[0;32m   6291\u001b[0m     \u001b[38;5;129;01mand\u001b[39;00m name \u001b[38;5;129;01mnot\u001b[39;00m \u001b[38;5;129;01min\u001b[39;00m \u001b[38;5;28mself\u001b[39m\u001b[38;5;241m.\u001b[39m_metadata\n\u001b[0;32m   6292\u001b[0m     \u001b[38;5;129;01mand\u001b[39;00m name \u001b[38;5;129;01mnot\u001b[39;00m \u001b[38;5;129;01min\u001b[39;00m \u001b[38;5;28mself\u001b[39m\u001b[38;5;241m.\u001b[39m_accessors\n\u001b[0;32m   6293\u001b[0m     \u001b[38;5;129;01mand\u001b[39;00m \u001b[38;5;28mself\u001b[39m\u001b[38;5;241m.\u001b[39m_info_axis\u001b[38;5;241m.\u001b[39m_can_hold_identifiers_and_holds_name(name)\n\u001b[0;32m   6294\u001b[0m ):\n\u001b[0;32m   6295\u001b[0m     \u001b[38;5;28;01mreturn\u001b[39;00m \u001b[38;5;28mself\u001b[39m[name]\n\u001b[1;32m-> 6296\u001b[0m \u001b[38;5;28;01mreturn\u001b[39;00m \u001b[38;5;28;43mobject\u001b[39;49m\u001b[38;5;241;43m.\u001b[39;49m\u001b[38;5;21;43m__getattribute__\u001b[39;49m\u001b[43m(\u001b[49m\u001b[38;5;28;43mself\u001b[39;49m\u001b[43m,\u001b[49m\u001b[43m \u001b[49m\u001b[43mname\u001b[49m\u001b[43m)\u001b[49m\n",
      "\u001b[1;31mAttributeError\u001b[0m: 'Series' object has no attribute 'month'"
     ]
    }
   ],
   "source": [
    "work_info['작업날짜'].month"
   ]
  },
  {
   "cell_type": "code",
   "execution_count": 10,
   "metadata": {},
   "outputs": [],
   "source": [
    "import datetime"
   ]
  },
  {
   "cell_type": "code",
   "execution_count": 1,
   "metadata": {},
   "outputs": [],
   "source": [
    "import pandas as pd\n",
    "insadb = pd.read_excel(\"./static/data/INSA_DB.xlsx\")\n",
    "insadb_json = insadb[['성명','작업장']].to_json(orient='records', force_ascii=False)"
   ]
  },
  {
   "cell_type": "code",
   "execution_count": null,
   "metadata": {},
   "outputs": [],
   "source": [
    "cols = [x for x in insadb.columns if '2025-01-31' in x]\n",
    "insadb[~insadb[cols[0]].isna()]"
   ]
  },
  {
   "cell_type": "code",
   "execution_count": 19,
   "metadata": {},
   "outputs": [
    {
     "data": {
      "text/plain": [
       "0        True\n",
       "1        True\n",
       "2       False\n",
       "3        True\n",
       "4        True\n",
       "        ...  \n",
       "1080     True\n",
       "1081     True\n",
       "1082     True\n",
       "1083     True\n",
       "1084     True\n",
       "Name: 2025-01-31(출근), Length: 1085, dtype: bool"
      ]
     },
     "execution_count": 19,
     "metadata": {},
     "output_type": "execute_result"
    }
   ],
   "source": [
    "insadb[cols[0]].isna()"
   ]
  },
  {
   "cell_type": "code",
   "execution_count": 2,
   "metadata": {},
   "outputs": [],
   "source": [
    "import pandas as pd"
   ]
  },
  {
   "cell_type": "code",
   "execution_count": 11,
   "metadata": {},
   "outputs": [],
   "source": [
    "test = pd.read_csv(\"./static/data/test.csv\").to_json(orient='records', force_ascii=False)"
   ]
  },
  {
   "cell_type": "code",
   "execution_count": 13,
   "metadata": {},
   "outputs": [],
   "source": [
    "import json\n",
    "file_path = \"static/data/test.json\"\n",
    "with open(file_path, 'w',encoding='utf-8') as outfile:\n",
    "    json.dump(test, outfile, ensure_ascii=False, indent=4)"
   ]
  },
  {
   "cell_type": "code",
   "execution_count": 9,
   "metadata": {},
   "outputs": [],
   "source": [
    "setting = pd.read_excel(\"./static/data/작업공수/SETTING.xlsx\").to_json(orient='records', force_ascii=False)"
   ]
  },
  {
   "cell_type": "code",
   "execution_count": 10,
   "metadata": {},
   "outputs": [],
   "source": [
    "import json\n",
    "file_path = \"static/data/작업공수/SETTING.json\"\n",
    "with open(file_path, 'w',encoding='utf-8') as outfile:\n",
    "    json.dump(setting, outfile, ensure_ascii=False, indent=4)"
   ]
  },
  {
   "cell_type": "code",
   "execution_count": 27,
   "metadata": {},
   "outputs": [],
   "source": [
    "import numpy as np"
   ]
  },
  {
   "cell_type": "code",
   "execution_count": 29,
   "metadata": {},
   "outputs": [
    {
     "name": "stderr",
     "output_type": "stream",
     "text": [
      "C:\\Users\\windows11\\AppData\\Local\\Temp\\ipykernel_5040\\1848569744.py:1: FutureWarning: Downcasting behavior in `replace` is deprecated and will be removed in a future version. To retain the old behavior, explicitly call `result.infer_objects(copy=False)`. To opt-in to the future behavior, set `pd.set_option('future.no_silent_downcasting', True)`\n",
      "  work_info[work_info['작업날짜'].str.contains(today).replace(np.NaN,False)]\n"
     ]
    },
    {
     "data": {
      "text/html": [
       "<div>\n",
       "<style scoped>\n",
       "    .dataframe tbody tr th:only-of-type {\n",
       "        vertical-align: middle;\n",
       "    }\n",
       "\n",
       "    .dataframe tbody tr th {\n",
       "        vertical-align: top;\n",
       "    }\n",
       "\n",
       "    .dataframe thead th {\n",
       "        text-align: right;\n",
       "    }\n",
       "</style>\n",
       "<table border=\"1\" class=\"dataframe\">\n",
       "  <thead>\n",
       "    <tr style=\"text-align: right;\">\n",
       "      <th></th>\n",
       "      <th>작업날짜</th>\n",
       "      <th>작업장</th>\n",
       "      <th>위치_분류1</th>\n",
       "      <th>위치_분류2</th>\n",
       "      <th>작업_분류1</th>\n",
       "      <th>작업_분류2</th>\n",
       "      <th>작업_분류3</th>\n",
       "      <th>연장</th>\n",
       "      <th>수량</th>\n",
       "      <th>단위</th>\n",
       "      <th>...</th>\n",
       "      <th>목표공수</th>\n",
       "      <th>공수</th>\n",
       "      <th>인원</th>\n",
       "      <th>도급/직영</th>\n",
       "      <th>특이사항</th>\n",
       "      <th>작업</th>\n",
       "      <th>기성날짜</th>\n",
       "      <th>기성 비고</th>\n",
       "      <th>작업진행률</th>\n",
       "      <th>KEY</th>\n",
       "    </tr>\n",
       "  </thead>\n",
       "  <tbody>\n",
       "    <tr>\n",
       "      <th>807</th>\n",
       "      <td>2025-01-03</td>\n",
       "      <td>마곡</td>\n",
       "      <td>5</td>\n",
       "      <td>C</td>\n",
       "      <td>??</td>\n",
       "      <td>NaN</td>\n",
       "      <td>바닥 및 보 거푸집 설치</td>\n",
       "      <td>NaN</td>\n",
       "      <td>NaN</td>\n",
       "      <td>NaN</td>\n",
       "      <td>...</td>\n",
       "      <td>6.0</td>\n",
       "      <td>4.0</td>\n",
       "      <td>3.0</td>\n",
       "      <td>도급</td>\n",
       "      <td>NaN</td>\n",
       "      <td>NaN</td>\n",
       "      <td>NaT</td>\n",
       "      <td>NaN</td>\n",
       "      <td>65%</td>\n",
       "      <td>XSZ1339</td>\n",
       "    </tr>\n",
       "    <tr>\n",
       "      <th>808</th>\n",
       "      <td>2025-01-03</td>\n",
       "      <td>마곡</td>\n",
       "      <td>12</td>\n",
       "      <td>C</td>\n",
       "      <td>??</td>\n",
       "      <td>NaN</td>\n",
       "      <td>코어 벽체  알폼 자재 양중 작업</td>\n",
       "      <td>NaN</td>\n",
       "      <td>NaN</td>\n",
       "      <td>NaN</td>\n",
       "      <td>...</td>\n",
       "      <td>4.0</td>\n",
       "      <td>4.0</td>\n",
       "      <td>3.0</td>\n",
       "      <td>도급</td>\n",
       "      <td>NaN</td>\n",
       "      <td>NaN</td>\n",
       "      <td>NaT</td>\n",
       "      <td>NaN</td>\n",
       "      <td>100%</td>\n",
       "      <td>VGB9612</td>\n",
       "    </tr>\n",
       "    <tr>\n",
       "      <th>809</th>\n",
       "      <td>2025-01-03</td>\n",
       "      <td>마곡</td>\n",
       "      <td>12</td>\n",
       "      <td>C</td>\n",
       "      <td>??</td>\n",
       "      <td>NaN</td>\n",
       "      <td>코어 벽체  알폼 자재 양중 작업</td>\n",
       "      <td>NaN</td>\n",
       "      <td>NaN</td>\n",
       "      <td>NaN</td>\n",
       "      <td>...</td>\n",
       "      <td>4.0</td>\n",
       "      <td>4.0</td>\n",
       "      <td>3.0</td>\n",
       "      <td>도급</td>\n",
       "      <td>NaN</td>\n",
       "      <td>NaN</td>\n",
       "      <td>NaT</td>\n",
       "      <td>NaN</td>\n",
       "      <td>0.75</td>\n",
       "      <td>VGB9612</td>\n",
       "    </tr>\n",
       "    <tr>\n",
       "      <th>810</th>\n",
       "      <td>2025-01-12</td>\n",
       "      <td>마곡</td>\n",
       "      <td>8</td>\n",
       "      <td>B</td>\n",
       "      <td>??</td>\n",
       "      <td>NaN</td>\n",
       "      <td>바닥 및 보 서포트 해체 작업</td>\n",
       "      <td>NaN</td>\n",
       "      <td>NaN</td>\n",
       "      <td>NaN</td>\n",
       "      <td>...</td>\n",
       "      <td>3.0</td>\n",
       "      <td>3.0</td>\n",
       "      <td>3.0</td>\n",
       "      <td>직영</td>\n",
       "      <td>NaN</td>\n",
       "      <td>NaN</td>\n",
       "      <td>NaT</td>\n",
       "      <td>NaN</td>\n",
       "      <td>0.65</td>\n",
       "      <td>NBZ5197</td>\n",
       "    </tr>\n",
       "    <tr>\n",
       "      <th>811</th>\n",
       "      <td>2025-01-12</td>\n",
       "      <td>마곡</td>\n",
       "      <td>11</td>\n",
       "      <td>B</td>\n",
       "      <td>??</td>\n",
       "      <td>NaN</td>\n",
       "      <td>코어 벽체 하부자키 및 요꼬 다대 작업</td>\n",
       "      <td>NaN</td>\n",
       "      <td>NaN</td>\n",
       "      <td>NaN</td>\n",
       "      <td>...</td>\n",
       "      <td>1.0</td>\n",
       "      <td>1.0</td>\n",
       "      <td>3.0</td>\n",
       "      <td>도급</td>\n",
       "      <td>NaN</td>\n",
       "      <td>NaN</td>\n",
       "      <td>NaT</td>\n",
       "      <td>NaN</td>\n",
       "      <td>100%</td>\n",
       "      <td>XVB9362</td>\n",
       "    </tr>\n",
       "    <tr>\n",
       "      <th>812</th>\n",
       "      <td>2025-01-03</td>\n",
       "      <td>마곡</td>\n",
       "      <td>11</td>\n",
       "      <td>C</td>\n",
       "      <td>??</td>\n",
       "      <td>NaN</td>\n",
       "      <td>코어 벽체 부분 해체 기준목 설치 작업</td>\n",
       "      <td>NaN</td>\n",
       "      <td>NaN</td>\n",
       "      <td>NaN</td>\n",
       "      <td>...</td>\n",
       "      <td>30.0</td>\n",
       "      <td>30.0</td>\n",
       "      <td>NaN</td>\n",
       "      <td>직영</td>\n",
       "      <td>NaN</td>\n",
       "      <td>NaN</td>\n",
       "      <td>NaT</td>\n",
       "      <td>NaN</td>\n",
       "      <td>0.0%</td>\n",
       "      <td>KNW7505</td>\n",
       "    </tr>\n",
       "    <tr>\n",
       "      <th>813</th>\n",
       "      <td>2025-01-27</td>\n",
       "      <td>마곡</td>\n",
       "      <td>11</td>\n",
       "      <td>B</td>\n",
       "      <td>NaN</td>\n",
       "      <td>바닥 및 보</td>\n",
       "      <td>단열재 자재 준비 작업</td>\n",
       "      <td>NaN</td>\n",
       "      <td>NaN</td>\n",
       "      <td>NaN</td>\n",
       "      <td>...</td>\n",
       "      <td>NaN</td>\n",
       "      <td>3.0</td>\n",
       "      <td>NaN</td>\n",
       "      <td>도급</td>\n",
       "      <td>NaN</td>\n",
       "      <td>NaN</td>\n",
       "      <td>NaT</td>\n",
       "      <td>NaN</td>\n",
       "      <td>0%</td>\n",
       "      <td>XGP1279</td>\n",
       "    </tr>\n",
       "    <tr>\n",
       "      <th>814</th>\n",
       "      <td>2025-01-27</td>\n",
       "      <td>마곡</td>\n",
       "      <td>11</td>\n",
       "      <td>A</td>\n",
       "      <td>NaN</td>\n",
       "      <td>바닥 및 보</td>\n",
       "      <td>용접 작업</td>\n",
       "      <td>NaN</td>\n",
       "      <td>NaN</td>\n",
       "      <td>NaN</td>\n",
       "      <td>...</td>\n",
       "      <td>NaN</td>\n",
       "      <td>3.0</td>\n",
       "      <td>NaN</td>\n",
       "      <td>도급</td>\n",
       "      <td>NaN</td>\n",
       "      <td>NaN</td>\n",
       "      <td>NaT</td>\n",
       "      <td>NaN</td>\n",
       "      <td>0%</td>\n",
       "      <td>LXJ0778</td>\n",
       "    </tr>\n",
       "  </tbody>\n",
       "</table>\n",
       "<p>8 rows × 24 columns</p>\n",
       "</div>"
      ],
      "text/plain": [
       "           작업날짜 작업장 위치_분류1 위치_분류2 작업_분류1  작업_분류2                 작업_분류3  연장  \\\n",
       "807  2025-01-03  마곡      5      C     ??     NaN          바닥 및 보 거푸집 설치 NaN   \n",
       "808  2025-01-03  마곡     12      C     ??     NaN     코어 벽체  알폼 자재 양중 작업 NaN   \n",
       "809  2025-01-03  마곡     12      C     ??     NaN     코어 벽체  알폼 자재 양중 작업 NaN   \n",
       "810  2025-01-12  마곡      8      B     ??     NaN       바닥 및 보 서포트 해체 작업 NaN   \n",
       "811  2025-01-12  마곡     11      B     ??     NaN  코어 벽체 하부자키 및 요꼬 다대 작업 NaN   \n",
       "812  2025-01-03  마곡     11      C     ??     NaN  코어 벽체 부분 해체 기준목 설치 작업 NaN   \n",
       "813  2025-01-27  마곡     11      B    NaN  바닥 및 보           단열재 자재 준비 작업 NaN   \n",
       "814  2025-01-27  마곡     11      A    NaN  바닥 및 보                  용접 작업 NaN   \n",
       "\n",
       "     수량  단위  ...  목표공수    공수   인원  도급/직영  특이사항   작업  기성날짜 기성 비고 작업진행률      KEY  \n",
       "807 NaN NaN  ...   6.0   4.0  3.0     도급   NaN  NaN   NaT   NaN   65%  XSZ1339  \n",
       "808 NaN NaN  ...   4.0   4.0  3.0     도급   NaN  NaN   NaT   NaN  100%  VGB9612  \n",
       "809 NaN NaN  ...   4.0   4.0  3.0     도급   NaN  NaN   NaT   NaN  0.75  VGB9612  \n",
       "810 NaN NaN  ...   3.0   3.0  3.0    직영    NaN  NaN   NaT   NaN  0.65  NBZ5197  \n",
       "811 NaN NaN  ...   1.0   1.0  3.0     도급   NaN  NaN   NaT   NaN  100%  XVB9362  \n",
       "812 NaN NaN  ...  30.0  30.0  NaN    직영    NaN  NaN   NaT   NaN  0.0%  KNW7505  \n",
       "813 NaN NaN  ...   NaN   3.0  NaN     도급   NaN  NaN   NaT   NaN    0%  XGP1279  \n",
       "814 NaN NaN  ...   NaN   3.0  NaN     도급   NaN  NaN   NaT   NaN    0%  LXJ0778  \n",
       "\n",
       "[8 rows x 24 columns]"
      ]
     },
     "execution_count": 29,
     "metadata": {},
     "output_type": "execute_result"
    }
   ],
   "source": [
    "today = datetime.datetime.today().strftime(\"%Y-%m\")\n",
    "work_info[work_info['작업날짜'].str.contains(today).replace(np.NaN,False)]"
   ]
  },
  {
   "cell_type": "code",
   "execution_count": null,
   "metadata": {},
   "outputs": [],
   "source": []
  }
 ],
 "metadata": {
  "kernelspec": {
   "display_name": "Python 3",
   "language": "python",
   "name": "python3"
  },
  "language_info": {
   "codemirror_mode": {
    "name": "ipython",
    "version": 3
   },
   "file_extension": ".py",
   "mimetype": "text/x-python",
   "name": "python",
   "nbconvert_exporter": "python",
   "pygments_lexer": "ipython3",
   "version": "3.9.13"
  }
 },
 "nbformat": 4,
 "nbformat_minor": 2
}
